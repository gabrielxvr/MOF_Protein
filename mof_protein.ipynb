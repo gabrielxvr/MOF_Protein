{
 "cells": [
  {
   "cell_type": "markdown",
   "id": "d43dfffa-afb7-49fd-b4cf-924f77df60df",
   "metadata": {},
   "source": [
    "## Modelo de Ising aplicado à cristalização de proteínas sustentada por MOF"
   ]
  },
  {
   "cell_type": "markdown",
   "id": "e0734b78-f566-4c0a-85b8-57e599e9b242",
   "metadata": {},
   "source": [
    "Estruturas metalorgânicas são uma classe de materiais constituídos por uma rede cristalina formada por nós metálicos e ligantes orgânicos. A depender do composto orgânico utilizado, a célula unitária dessa estrutura cristalina pode apresentar tamanhos diferentes, assim como diferentes tipos de potenciais eletrônicos [1]. Alguns tipos de MOF possuem um tamanho de célula unitária semelhante ao tamanho de algumas proteínas, o que possibilita a utilização dessas estruturas cristalinas como sustentação de enzimas para catálise [2], ou a nucleação de cristais de proteína na superfície das MOFs [3]. A interação da proteína com a estrutura cristalina das MOFs pode facilitar a formação de cristais ou permitir a formação de estruturas meta-estáveis de cristais proteicos. \n",
    "\n",
    "Para compreender a forma como as proteínas interagem com as estruturas metalorgânicas, é necessário conhecer alguns parâmetros envolvidos nessa interação. Portanto, propomos o cálculo da energia on site da proteína Lisozima em alguns tipos de MOFs. A partir da parametrização feita por meio do cálculo da energia das interação, propomos a utilização do modelo de Ising bidimensional [4] para a descrição de processos de formação cristalina de proteínas na superfície das estruturas metalorgânicas.\n",
    "\n",
    "- [1] - H.-C. J. Zhou and S. Kitagawa, Chem Soc Rev 43, 5415.\n",
    "- [2] - Y. Du, X. Jia, L. Zhong, Y. Jiao, Z. Zhang, Z. Wang, Y. Feng, M. Bilal, J. Cui, and S. Jia,\n",
    "Coordination Chemistry Reviews 454, 214327 (2022).\n",
    "- [3] - Q. Yang, Z. Zhang, L. Wang, X. Xing, J. Zhou, and L. Li, Nanomaterials 13 (2023), 10.3390/nano13142064.\n",
    "- [4] - E. Ising, Zeitschrift fur Physik 31, 253 (1925)."
   ]
  },
  {
   "cell_type": "markdown",
   "id": "e1444bfa-8b23-4ef4-99c7-3400deaad82e",
   "metadata": {},
   "source": [
    "### Definições do sistema"
   ]
  },
  {
   "cell_type": "markdown",
   "id": "7f194cbf-6f3f-4a1a-a9e7-c30569c7b5fe",
   "metadata": {},
   "source": [
    "Para uma primeira abordagem, serão consideradas 2 rotações diferentes para a proteínas, designadas como estado up ($\\uparrow$) e estado down ($\\downarrow$). Além disso, será considerada uma estrutura de rede quadrada da MOF, de forma que os sítios de sustentação de proteínas serão representados por uma malha de posições onde as proteínas podem estar. Será considerada uma energia de interação entre as proteínas, dependente da conformação das proteínas, além disso, será considerada só a interação entre os primeiros vizinos, de forma que a Hamiltoniana do sistema pode ser dada por:\n",
    "\n",
    "$\n",
    "H_j = n_{\\uparrow} \\epsilon_{\\uparrow} + n_{\\downarrow} \\epsilon_{\\downarrow} + \\sum_{i, j} \\epsilon_{i, j}\n",
    "$\n",
    "\n",
    "$ \\sum_{i, j} \\epsilon_{i, j} $ é calculado a partir da interação de primeiros vizinhos.\n",
    "\n",
    "Será utilizado o modelo Gram-canônico, em que será considerado um potencial químico para a entrada de proteínas "
   ]
  },
  {
   "cell_type": "code",
   "execution_count": 7,
   "id": "746d7055-b6a4-4818-aace-d74d5c61459e",
   "metadata": {},
   "outputs": [],
   "source": [
    "import numpy as np\n",
    "from itertools import combinations\n",
    "\n",
    "import matplotlib.pyplot as plt\n",
    "from mpl_toolkits.axes_grid1.inset_locator import zoomed_inset_axes\n",
    "from mpl_toolkits.axes_grid1.inset_locator import mark_inset"
   ]
  },
  {
   "cell_type": "code",
   "execution_count": 8,
   "id": "8fe9f477-a609-4843-a919-cb0a434cdaf1",
   "metadata": {},
   "outputs": [],
   "source": [
    "e_u=-1\n",
    "e_d=-0.8\n",
    "e_uu_dd=-0.5\n",
    "e_du=-0.3\n",
    "e_ud=+0.1\n",
    "e_p = -0.5"
   ]
  },
  {
   "cell_type": "code",
   "execution_count": 9,
   "id": "8b6ef42b-7403-4fa0-acbc-1a2e941ad9a2",
   "metadata": {},
   "outputs": [],
   "source": [
    "class up:\n",
    "    def __init__(self):\n",
    "        self.tag = '^'\n",
    "\n",
    "    def __repr__(self):\n",
    "        return '↑'\n",
    "\n",
    "    def __mul__(self, other):\n",
    "        if self.tag == other.tag:\n",
    "            return e_uu_dd\n",
    "        if other.tag == 'v':\n",
    "            return e_ud\n",
    "        if other.tag == ' ':\n",
    "            return 0\n",
    "        \n",
    "    def __add__(self, other):\n",
    "        if other.tag == ' ':\n",
    "            return 0\n",
    "        else:\n",
    "            return e_p\n",
    "        \n",
    "class down:\n",
    "    def __init__(self):\n",
    "        self.tag = 'v'\n",
    "\n",
    "    def __repr__(self):\n",
    "        return '↓'\n",
    "\n",
    "    def __mul__(self, other):\n",
    "        if self.tag == other.tag:\n",
    "            return e_uu_dd\n",
    "        if other.tag == '^':\n",
    "            return e_du\n",
    "        if other.tag == ' ':\n",
    "            return 0\n",
    "        \n",
    "    def __add__(self, other):\n",
    "        if other.tag == ' ':\n",
    "            return 0\n",
    "        else:\n",
    "            return e_p\n",
    "        \n",
    "class empty:\n",
    "    def __init__(self):\n",
    "        self.tag = ' '\n",
    "\n",
    "    def __repr__(self):\n",
    "        return ' '\n",
    "\n",
    "    def __mul__(self, other):\n",
    "        return 0\n",
    "    \n",
    "    def __add__(self, other):\n",
    "        return 0"
   ]
  },
  {
   "cell_type": "code",
   "execution_count": 18,
   "id": "6e7ea477-c9a1-4d1d-ae7d-9a4fb4a7dae5",
   "metadata": {},
   "outputs": [],
   "source": [
    "sistema = np.array([[up(), empty()], [empty(), down()]])"
   ]
  },
  {
   "cell_type": "code",
   "execution_count": 19,
   "id": "e488ee96-9a05-4c29-adfc-a6fdd43d8db9",
   "metadata": {},
   "outputs": [
    {
     "name": "stdout",
     "output_type": "stream",
     "text": [
      "[[↑  ]\n",
      " [  ↓]]\n"
     ]
    }
   ],
   "source": [
    "print(sistema)"
   ]
  },
  {
   "cell_type": "code",
   "execution_count": 5,
   "id": "6c7e8516-b518-4a47-8b9e-6de0bc2ac6d2",
   "metadata": {},
   "outputs": [],
   "source": [
    "def generate_matrices(cell_size, macrostate):\n",
    "    n_up = macrostate[0]\n",
    "    n_down = macrostate[1]\n",
    "    total_cells = cell_size[0] * cell_size[1]\n",
    "    n_empty = total_cells - (n_up + n_down)\n",
    "\n",
    "    # Determine todas as combinações possíveis de índices onde 'up' pode estar\n",
    "    all_indices = list(range(total_cells))\n",
    "    up_combinations = list(combinations(all_indices, n_up))\n",
    "\n",
    "    matrices = []\n",
    "\n",
    "    for up_indices in up_combinations:\n",
    "        # Crie uma matriz com 'A's em primeiro lugar\n",
    "        matrix = np.full(cell_size, A())\n",
    "\n",
    "        # Substitua os índices selecionados por 'B's\n",
    "        for index in b_indices:\n",
    "            row = index // cell_size[1]\n",
    "            col = index % cell_size[1]\n",
    "            matrix[row, col] = B()\n",
    "\n",
    "        matrices.append(matrix)\n",
    "\n",
    "    return np.array(matrices)"
   ]
  }
 ],
 "metadata": {
  "kernelspec": {
   "display_name": "ilumpy",
   "language": "python",
   "name": "ilumpy"
  },
  "language_info": {
   "codemirror_mode": {
    "name": "ipython",
    "version": 3
   },
   "file_extension": ".py",
   "mimetype": "text/x-python",
   "name": "python",
   "nbconvert_exporter": "python",
   "pygments_lexer": "ipython3",
   "version": "3.9.7"
  }
 },
 "nbformat": 4,
 "nbformat_minor": 5
}
