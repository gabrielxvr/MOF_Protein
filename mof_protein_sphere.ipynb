{
 "cells": [
  {
   "attachments": {},
   "cell_type": "markdown",
   "id": "d43dfffa-afb7-49fd-b4cf-924f77df60df",
   "metadata": {},
   "source": [
    "## Modelo de Ising aplicado à cristalização de proteínas sustentada por MOF"
   ]
  },
  {
   "attachments": {},
   "cell_type": "markdown",
   "id": "e0734b78-f566-4c0a-85b8-57e599e9b242",
   "metadata": {},
   "source": [
    "Estruturas metalorgânicas são uma classe de materiais constituídos por uma rede cristalina formada por nós metálicos e ligantes orgânicos. A depender do composto orgânico utilizado, a célula unitária dessa estrutura cristalina pode apresentar tamanhos diferentes, assim como diferentes tipos de potenciais eletrônicos [1]. Alguns tipos de MOF possuem um tamanho de célula unitária semelhante ao tamanho de algumas proteínas, o que possibilita a utilização dessas estruturas cristalinas como sustentação de enzimas para catálise [2], ou a nucleação de cristais de proteína na superfície das MOFs [3]. A interação da proteína com a estrutura cristalina das MOFs pode facilitar a formação de cristais ou permitir a formação de estruturas meta-estáveis de cristais proteicos. \n",
    "\n",
    "Para compreender a forma como as proteínas interagem com as estruturas metalorgânicas, é necessário conhecer alguns parâmetros envolvidos nessa interação. Portanto, propomos o cálculo da energia on site da proteína Lisozima em alguns tipos de MOFs. A partir da parametrização feita por meio do cálculo da energia das interação, propomos a utilização do modelo de Ising bidimensional [4] para a descrição de processos de formação cristalina de proteínas na superfície das estruturas metalorgânicas.\n",
    "\n",
    "- [1] - H.-C. J. Zhou and S. Kitagawa, Chem Soc Rev 43, 5415.\n",
    "- [2] - Y. Du, X. Jia, L. Zhong, Y. Jiao, Z. Zhang, Z. Wang, Y. Feng, M. Bilal, J. Cui, and S. Jia,\n",
    "Coordination Chemistry Reviews 454, 214327 (2022).\n",
    "- [3] - Q. Yang, Z. Zhang, L. Wang, X. Xing, J. Zhou, and L. Li, Nanomaterials 13 (2023), 10.3390/nano13142064.\n",
    "- [4] - E. Ising, Zeitschrift fur Physik 31, 253 (1925)."
   ]
  },
  {
   "attachments": {},
   "cell_type": "markdown",
   "id": "e1444bfa-8b23-4ef4-99c7-3400deaad82e",
   "metadata": {},
   "source": [
    "### Definições do sistema"
   ]
  },
  {
   "attachments": {},
   "cell_type": "markdown",
   "id": "7f194cbf-6f3f-4a1a-a9e7-c30569c7b5fe",
   "metadata": {},
   "source": [
    "Para uma primeira abordagem, serão consideradas 2 rotações diferentes para a proteínas, designadas como estado up ($\\uparrow$) e estado down ($\\downarrow$). Além disso, será considerada uma estrutura de rede quadrada da MOF, de forma que os sítios de sustentação de proteínas serão representados por uma malha de posições onde as proteínas podem estar. Será considerada uma energia de interação entre as proteínas, dependente da conformação das proteínas, além disso, será considerada só a interação entre os primeiros vizinos, de forma que a Hamiltoniana do sistema pode ser dada por:\n",
    "\n",
    "$\n",
    "H_j = n_{\\uparrow} \\epsilon_{\\uparrow} + n_{\\downarrow} \\epsilon_{\\downarrow} + \\sum_{i, j} \\epsilon_{i, j}\n",
    "$\n",
    "\n",
    "$ \\sum_{i, j} \\epsilon_{i, j} $ é calculado a partir da interação de primeiros vizinhos.\n",
    "\n",
    "Será utilizado o modelo Gram-canônico, em que será considerado um potencial químico para a entrada de proteínas "
   ]
  },
  {
   "cell_type": "code",
   "execution_count": 50,
   "id": "746d7055-b6a4-4818-aace-d74d5c61459e",
   "metadata": {},
   "outputs": [],
   "source": [
    "import numpy as np\n",
    "from itertools import combinations\n",
    "\n",
    "import matplotlib.pyplot as plt\n",
    "\n",
    "from scipy.constants import physical_constants"
   ]
  },
  {
   "cell_type": "code",
   "execution_count": 51,
   "id": "83c2c44b",
   "metadata": {},
   "outputs": [],
   "source": [
    "kb = 1#physical_constants['Boltzmann constant in eV/K'][0]\n",
    "cell_size = (3,3)\n",
    "n = 3"
   ]
  },
  {
   "cell_type": "code",
   "execution_count": 52,
   "id": "8f342cac",
   "metadata": {},
   "outputs": [],
   "source": [
    "e_sph = 0\n",
    "e_sph_sph = -1"
   ]
  },
  {
   "attachments": {},
   "cell_type": "markdown",
   "id": "f14da80f",
   "metadata": {},
   "source": [
    "### Definição das classes"
   ]
  },
  {
   "cell_type": "code",
   "execution_count": 53,
   "id": "8b6ef42b-7403-4fa0-acbc-1a2e941ad9a2",
   "metadata": {},
   "outputs": [],
   "source": [
    "class sphere:\n",
    "    def __init__(self):\n",
    "        self.tag = '°'\n",
    "\n",
    "    def __repr__(self):\n",
    "        return '°'\n",
    "\n",
    "    def __mul__(self, other):\n",
    "        if self.tag == other.tag:\n",
    "            return e_sph_sph\n",
    "        if other.tag == ' ':\n",
    "            return 0\n",
    "        \n",
    "class empty:\n",
    "    def __init__(self):\n",
    "        self.tag = ' '\n",
    "\n",
    "    def __repr__(self):\n",
    "        return ' '\n",
    "    \n",
    "    def __mul__(self, other):\n",
    "        return 0"
   ]
  },
  {
   "attachments": {},
   "cell_type": "markdown",
   "id": "e3bbeb5d",
   "metadata": {},
   "source": [
    "### Gerando todas as matrizes possíveis"
   ]
  },
  {
   "cell_type": "code",
   "execution_count": 54,
   "id": "6c7e8516-b518-4a47-8b9e-6de0bc2ac6d2",
   "metadata": {},
   "outputs": [],
   "source": [
    "def generate_matrices_sph(cell_size, n):\n",
    "    total_cells = cell_size[0] * cell_size[1]\n",
    "\n",
    "    if n > total_cells:\n",
    "        return []\n",
    "\n",
    "    matrix = [[empty() for _ in range(cell_size[1])] for _ in range(cell_size[0])]\n",
    "\n",
    "    sph_positions = list(combinations(range(total_cells), n))\n",
    "\n",
    "    matrices = []\n",
    "\n",
    "    for positions in sph_positions:\n",
    "        current_matrix = [row[:] for row in matrix]\n",
    "        for position in positions:\n",
    "            row = position // cell_size[1]\n",
    "            col = position % cell_size[1]\n",
    "            current_matrix[row][col] = sphere()\n",
    "        matrices.append(current_matrix)\n",
    "\n",
    "    return matrices"
   ]
  },
  {
   "attachments": {},
   "cell_type": "markdown",
   "id": "65be4204",
   "metadata": {},
   "source": [
    "### Funções de partição"
   ]
  },
  {
   "cell_type": "code",
   "execution_count": 55,
   "id": "5bd39e6d",
   "metadata": {},
   "outputs": [],
   "source": [
    "def Ej(matrix, n):\n",
    "    int_col = np.sum(np.roll(matrix, 0) * np.roll(matrix, 1))\n",
    "    int_row = np.sum(np.roll(matrix, 0, axis=0) * np.roll(matrix, 1, axis=0))\n",
    "\n",
    "    sum_delta = int_col + int_row\n",
    "\n",
    "    return n * e_sph + sum_delta"
   ]
  },
  {
   "cell_type": "code",
   "execution_count": 56,
   "id": "fdaaee6c",
   "metadata": {},
   "outputs": [],
   "source": [
    "def z(n, temp):\n",
    "    matrices = generate_matrices_sph(cell_size, n)\n",
    "    beta = 1/(kb*temp)\n",
    "    z_value = 0\n",
    "    for matrix in matrices:\n",
    "        ej = Ej(matrix,n)\n",
    "        z_value += np.exp(-beta * ej)\n",
    "    return z_value"
   ]
  },
  {
   "cell_type": "code",
   "execution_count": 57,
   "id": "818a29b7",
   "metadata": {},
   "outputs": [],
   "source": [
    "def xi(mu, temp):\n",
    "    beta = 1/(kb*temp)\n",
    "    N = cell_size[0] * cell_size[1]\n",
    "    xi_value = 0\n",
    "    for n in range(N+1):\n",
    "        z_value = z(n, temp)\n",
    "        exp_fac = np.exp(beta * mu * n)\n",
    "        xi_value += z_value * exp_fac\n",
    "    return xi_value"
   ]
  },
  {
   "attachments": {},
   "cell_type": "markdown",
   "id": "a12932ad",
   "metadata": {},
   "source": [
    "### Grande potencial termodinâmico"
   ]
  },
  {
   "cell_type": "code",
   "execution_count": 58,
   "id": "7eeebe07",
   "metadata": {},
   "outputs": [],
   "source": [
    "def phi(mu, temp):\n",
    "    beta = 1/(kb*temp)\n",
    "    xi_value = xi(mu,temp)\n",
    "    return -(1/beta) * np.log(xi_value)"
   ]
  },
  {
   "attachments": {},
   "cell_type": "markdown",
   "id": "b132a0d0",
   "metadata": {},
   "source": [
    "### Energia do sistema cristalino"
   ]
  },
  {
   "cell_type": "code",
   "execution_count": 59,
   "id": "ff2e2039",
   "metadata": {},
   "outputs": [],
   "source": [
    "crystal = generate_matrices_sph(cell_size, cell_size[0]*cell_size[1])"
   ]
  },
  {
   "cell_type": "code",
   "execution_count": 60,
   "id": "e05d1638",
   "metadata": {},
   "outputs": [],
   "source": [
    "crystal_energy = Ej(crystal, cell_size[0]*cell_size[1])"
   ]
  },
  {
   "cell_type": "code",
   "execution_count": 61,
   "id": "6c53077b",
   "metadata": {},
   "outputs": [
    {
     "data": {
      "text/plain": [
       "-18"
      ]
     },
     "execution_count": 61,
     "metadata": {},
     "output_type": "execute_result"
    }
   ],
   "source": [
    "crystal_energy"
   ]
  },
  {
   "cell_type": "code",
   "execution_count": 78,
   "id": "c78bfedc",
   "metadata": {},
   "outputs": [],
   "source": [
    "mu_values = np.linspace(-10,10,1000)\n",
    "temp_values = np.linspace(0,101,200)"
   ]
  },
  {
   "cell_type": "code",
   "execution_count": 83,
   "id": "23e7ad22",
   "metadata": {},
   "outputs": [
    {
     "name": "stderr",
     "output_type": "stream",
     "text": [
      "C:\\Users\\pedro220045\\AppData\\Local\\Temp\\ipykernel_43188\\1058281038.py:2: RuntimeWarning: divide by zero encountered in divide\n",
      "  beta = 1/(kb*temp)\n",
      "C:\\Users\\pedro220045\\AppData\\Local\\Temp\\ipykernel_43188\\3844741131.py:3: RuntimeWarning: divide by zero encountered in divide\n",
      "  beta = 1/(kb*temp)\n",
      "C:\\Users\\pedro220045\\AppData\\Local\\Temp\\ipykernel_43188\\3844741131.py:7: RuntimeWarning: invalid value encountered in multiply\n",
      "  z_value += np.exp(-beta * ej)\n",
      "C:\\Users\\pedro220045\\AppData\\Local\\Temp\\ipykernel_43188\\3286783073.py:8: RuntimeWarning: invalid value encountered in multiply\n",
      "  xi_value += z_value * exp_fac\n"
     ]
    },
    {
     "ename": "AttributeError",
     "evalue": "AxesImage.set() got an unexpected keyword argument 'center'",
     "output_type": "error",
     "traceback": [
      "\u001b[1;31m---------------------------------------------------------------------------\u001b[0m",
      "\u001b[1;31mAttributeError\u001b[0m                            Traceback (most recent call last)",
      "Cell \u001b[1;32mIn[83], line 6\u001b[0m\n\u001b[0;32m      3\u001b[0m phi_values \u001b[39m=\u001b[39m phi(mu_grid, temp_grid)\n\u001b[0;32m      4\u001b[0m phi_values \u001b[39m-\u001b[39m\u001b[39m=\u001b[39m crystal_energy\n\u001b[1;32m----> 6\u001b[0m plt\u001b[39m.\u001b[39;49mimshow(phi_values, extent\u001b[39m=\u001b[39;49m(mu_values\u001b[39m.\u001b[39;49mmin(), mu_values\u001b[39m.\u001b[39;49mmax(), temp_values\u001b[39m.\u001b[39;49mmin(), temp_values\u001b[39m.\u001b[39;49mmax()), aspect\u001b[39m=\u001b[39;49m\u001b[39m'\u001b[39;49m\u001b[39mauto\u001b[39;49m\u001b[39m'\u001b[39;49m, cmap\u001b[39m=\u001b[39;49m\u001b[39m'\u001b[39;49m\u001b[39mseismic\u001b[39;49m\u001b[39m'\u001b[39;49m, center\u001b[39m=\u001b[39;49m\u001b[39m0\u001b[39;49m)\n\u001b[0;32m      7\u001b[0m plt\u001b[39m.\u001b[39mcolorbar(label\u001b[39m=\u001b[39m\u001b[39m'\u001b[39m\u001b[39mPhi\u001b[39m\u001b[39m'\u001b[39m)  \n\u001b[0;32m      8\u001b[0m plt\u001b[39m.\u001b[39mxlabel(\u001b[39m'\u001b[39m\u001b[39mMu\u001b[39m\u001b[39m'\u001b[39m)\n",
      "File \u001b[1;32mc:\\Users\\pedro220045\\.conda\\envs\\pepepy_filho\\Lib\\site-packages\\matplotlib\\pyplot.py:3346\u001b[0m, in \u001b[0;36mimshow\u001b[1;34m(X, cmap, norm, aspect, interpolation, alpha, vmin, vmax, origin, extent, interpolation_stage, filternorm, filterrad, resample, url, data, **kwargs)\u001b[0m\n\u001b[0;32m   3325\u001b[0m \u001b[39m@_copy_docstring_and_deprecators\u001b[39m(Axes\u001b[39m.\u001b[39mimshow)\n\u001b[0;32m   3326\u001b[0m \u001b[39mdef\u001b[39;00m \u001b[39mimshow\u001b[39m(\n\u001b[0;32m   3327\u001b[0m     X: ArrayLike \u001b[39m|\u001b[39m PIL\u001b[39m.\u001b[39mImage\u001b[39m.\u001b[39mImage,\n\u001b[1;32m   (...)\u001b[0m\n\u001b[0;32m   3344\u001b[0m     \u001b[39m*\u001b[39m\u001b[39m*\u001b[39mkwargs,\n\u001b[0;32m   3345\u001b[0m ) \u001b[39m-\u001b[39m\u001b[39m>\u001b[39m AxesImage:\n\u001b[1;32m-> 3346\u001b[0m     __ret \u001b[39m=\u001b[39m gca()\u001b[39m.\u001b[39;49mimshow(\n\u001b[0;32m   3347\u001b[0m         X,\n\u001b[0;32m   3348\u001b[0m         cmap\u001b[39m=\u001b[39;49mcmap,\n\u001b[0;32m   3349\u001b[0m         norm\u001b[39m=\u001b[39;49mnorm,\n\u001b[0;32m   3350\u001b[0m         aspect\u001b[39m=\u001b[39;49maspect,\n\u001b[0;32m   3351\u001b[0m         interpolation\u001b[39m=\u001b[39;49minterpolation,\n\u001b[0;32m   3352\u001b[0m         alpha\u001b[39m=\u001b[39;49malpha,\n\u001b[0;32m   3353\u001b[0m         vmin\u001b[39m=\u001b[39;49mvmin,\n\u001b[0;32m   3354\u001b[0m         vmax\u001b[39m=\u001b[39;49mvmax,\n\u001b[0;32m   3355\u001b[0m         origin\u001b[39m=\u001b[39;49morigin,\n\u001b[0;32m   3356\u001b[0m         extent\u001b[39m=\u001b[39;49mextent,\n\u001b[0;32m   3357\u001b[0m         interpolation_stage\u001b[39m=\u001b[39;49minterpolation_stage,\n\u001b[0;32m   3358\u001b[0m         filternorm\u001b[39m=\u001b[39;49mfilternorm,\n\u001b[0;32m   3359\u001b[0m         filterrad\u001b[39m=\u001b[39;49mfilterrad,\n\u001b[0;32m   3360\u001b[0m         resample\u001b[39m=\u001b[39;49mresample,\n\u001b[0;32m   3361\u001b[0m         url\u001b[39m=\u001b[39;49murl,\n\u001b[0;32m   3362\u001b[0m         \u001b[39m*\u001b[39;49m\u001b[39m*\u001b[39;49m({\u001b[39m\"\u001b[39;49m\u001b[39mdata\u001b[39;49m\u001b[39m\"\u001b[39;49m: data} \u001b[39mif\u001b[39;49;00m data \u001b[39mis\u001b[39;49;00m \u001b[39mnot\u001b[39;49;00m \u001b[39mNone\u001b[39;49;00m \u001b[39melse\u001b[39;49;00m {}),\n\u001b[0;32m   3363\u001b[0m         \u001b[39m*\u001b[39;49m\u001b[39m*\u001b[39;49mkwargs,\n\u001b[0;32m   3364\u001b[0m     )\n\u001b[0;32m   3365\u001b[0m     sci(__ret)\n\u001b[0;32m   3366\u001b[0m     \u001b[39mreturn\u001b[39;00m __ret\n",
      "File \u001b[1;32mc:\\Users\\pedro220045\\.conda\\envs\\pepepy_filho\\Lib\\site-packages\\matplotlib\\__init__.py:1478\u001b[0m, in \u001b[0;36m_preprocess_data.<locals>.inner\u001b[1;34m(ax, data, *args, **kwargs)\u001b[0m\n\u001b[0;32m   1475\u001b[0m \u001b[39m@functools\u001b[39m\u001b[39m.\u001b[39mwraps(func)\n\u001b[0;32m   1476\u001b[0m \u001b[39mdef\u001b[39;00m \u001b[39minner\u001b[39m(ax, \u001b[39m*\u001b[39margs, data\u001b[39m=\u001b[39m\u001b[39mNone\u001b[39;00m, \u001b[39m*\u001b[39m\u001b[39m*\u001b[39mkwargs):\n\u001b[0;32m   1477\u001b[0m     \u001b[39mif\u001b[39;00m data \u001b[39mis\u001b[39;00m \u001b[39mNone\u001b[39;00m:\n\u001b[1;32m-> 1478\u001b[0m         \u001b[39mreturn\u001b[39;00m func(ax, \u001b[39m*\u001b[39;49m\u001b[39mmap\u001b[39;49m(sanitize_sequence, args), \u001b[39m*\u001b[39;49m\u001b[39m*\u001b[39;49mkwargs)\n\u001b[0;32m   1480\u001b[0m     bound \u001b[39m=\u001b[39m new_sig\u001b[39m.\u001b[39mbind(ax, \u001b[39m*\u001b[39margs, \u001b[39m*\u001b[39m\u001b[39m*\u001b[39mkwargs)\n\u001b[0;32m   1481\u001b[0m     auto_label \u001b[39m=\u001b[39m (bound\u001b[39m.\u001b[39marguments\u001b[39m.\u001b[39mget(label_namer)\n\u001b[0;32m   1482\u001b[0m                   \u001b[39mor\u001b[39;00m bound\u001b[39m.\u001b[39mkwargs\u001b[39m.\u001b[39mget(label_namer))\n",
      "File \u001b[1;32mc:\\Users\\pedro220045\\.conda\\envs\\pepepy_filho\\Lib\\site-packages\\matplotlib\\axes\\_axes.py:5737\u001b[0m, in \u001b[0;36mAxes.imshow\u001b[1;34m(self, X, cmap, norm, aspect, interpolation, alpha, vmin, vmax, origin, extent, interpolation_stage, filternorm, filterrad, resample, url, **kwargs)\u001b[0m\n\u001b[0;32m   5532\u001b[0m \u001b[39m@_preprocess_data\u001b[39m()\n\u001b[0;32m   5533\u001b[0m \u001b[39m@_docstring\u001b[39m\u001b[39m.\u001b[39minterpd\n\u001b[0;32m   5534\u001b[0m \u001b[39mdef\u001b[39;00m \u001b[39mimshow\u001b[39m(\u001b[39mself\u001b[39m, X, cmap\u001b[39m=\u001b[39m\u001b[39mNone\u001b[39;00m, norm\u001b[39m=\u001b[39m\u001b[39mNone\u001b[39;00m, \u001b[39m*\u001b[39m, aspect\u001b[39m=\u001b[39m\u001b[39mNone\u001b[39;00m,\n\u001b[1;32m   (...)\u001b[0m\n\u001b[0;32m   5537\u001b[0m            interpolation_stage\u001b[39m=\u001b[39m\u001b[39mNone\u001b[39;00m, filternorm\u001b[39m=\u001b[39m\u001b[39mTrue\u001b[39;00m, filterrad\u001b[39m=\u001b[39m\u001b[39m4.0\u001b[39m,\n\u001b[0;32m   5538\u001b[0m            resample\u001b[39m=\u001b[39m\u001b[39mNone\u001b[39;00m, url\u001b[39m=\u001b[39m\u001b[39mNone\u001b[39;00m, \u001b[39m*\u001b[39m\u001b[39m*\u001b[39mkwargs):\n\u001b[0;32m   5539\u001b[0m \u001b[39m    \u001b[39m\u001b[39m\"\"\"\u001b[39;00m\n\u001b[0;32m   5540\u001b[0m \u001b[39m    Display data as an image, i.e., on a 2D regular raster.\u001b[39;00m\n\u001b[0;32m   5541\u001b[0m \n\u001b[1;32m   (...)\u001b[0m\n\u001b[0;32m   5735\u001b[0m \u001b[39m    (unassociated) alpha representation.\u001b[39;00m\n\u001b[0;32m   5736\u001b[0m \u001b[39m    \"\"\"\u001b[39;00m\n\u001b[1;32m-> 5737\u001b[0m     im \u001b[39m=\u001b[39m mimage\u001b[39m.\u001b[39;49mAxesImage(\u001b[39mself\u001b[39;49m, cmap\u001b[39m=\u001b[39;49mcmap, norm\u001b[39m=\u001b[39;49mnorm,\n\u001b[0;32m   5738\u001b[0m                           interpolation\u001b[39m=\u001b[39;49minterpolation, origin\u001b[39m=\u001b[39;49morigin,\n\u001b[0;32m   5739\u001b[0m                           extent\u001b[39m=\u001b[39;49mextent, filternorm\u001b[39m=\u001b[39;49mfilternorm,\n\u001b[0;32m   5740\u001b[0m                           filterrad\u001b[39m=\u001b[39;49mfilterrad, resample\u001b[39m=\u001b[39;49mresample,\n\u001b[0;32m   5741\u001b[0m                           interpolation_stage\u001b[39m=\u001b[39;49minterpolation_stage,\n\u001b[0;32m   5742\u001b[0m                           \u001b[39m*\u001b[39;49m\u001b[39m*\u001b[39;49mkwargs)\n\u001b[0;32m   5744\u001b[0m     \u001b[39mif\u001b[39;00m aspect \u001b[39mis\u001b[39;00m \u001b[39mNone\u001b[39;00m \u001b[39mand\u001b[39;00m \u001b[39mnot\u001b[39;00m (\n\u001b[0;32m   5745\u001b[0m             im\u001b[39m.\u001b[39mis_transform_set()\n\u001b[0;32m   5746\u001b[0m             \u001b[39mand\u001b[39;00m \u001b[39mnot\u001b[39;00m im\u001b[39m.\u001b[39mget_transform()\u001b[39m.\u001b[39mcontains_branch(\u001b[39mself\u001b[39m\u001b[39m.\u001b[39mtransData)):\n\u001b[0;32m   5747\u001b[0m         aspect \u001b[39m=\u001b[39m mpl\u001b[39m.\u001b[39mrcParams[\u001b[39m'\u001b[39m\u001b[39mimage.aspect\u001b[39m\u001b[39m'\u001b[39m]\n",
      "File \u001b[1;32mc:\\Users\\pedro220045\\.conda\\envs\\pepepy_filho\\Lib\\site-packages\\matplotlib\\image.py:912\u001b[0m, in \u001b[0;36mAxesImage.__init__\u001b[1;34m(self, ax, cmap, norm, interpolation, origin, extent, filternorm, filterrad, resample, interpolation_stage, **kwargs)\u001b[0m\n\u001b[0;32m    896\u001b[0m \u001b[39mdef\u001b[39;00m \u001b[39m__init__\u001b[39m(\u001b[39mself\u001b[39m, ax,\n\u001b[0;32m    897\u001b[0m              \u001b[39m*\u001b[39m,\n\u001b[0;32m    898\u001b[0m              cmap\u001b[39m=\u001b[39m\u001b[39mNone\u001b[39;00m,\n\u001b[1;32m   (...)\u001b[0m\n\u001b[0;32m    907\u001b[0m              \u001b[39m*\u001b[39m\u001b[39m*\u001b[39mkwargs\n\u001b[0;32m    908\u001b[0m              ):\n\u001b[0;32m    910\u001b[0m     \u001b[39mself\u001b[39m\u001b[39m.\u001b[39m_extent \u001b[39m=\u001b[39m extent\n\u001b[1;32m--> 912\u001b[0m     \u001b[39msuper\u001b[39;49m()\u001b[39m.\u001b[39;49m\u001b[39m__init__\u001b[39;49m(\n\u001b[0;32m    913\u001b[0m         ax,\n\u001b[0;32m    914\u001b[0m         cmap\u001b[39m=\u001b[39;49mcmap,\n\u001b[0;32m    915\u001b[0m         norm\u001b[39m=\u001b[39;49mnorm,\n\u001b[0;32m    916\u001b[0m         interpolation\u001b[39m=\u001b[39;49minterpolation,\n\u001b[0;32m    917\u001b[0m         origin\u001b[39m=\u001b[39;49morigin,\n\u001b[0;32m    918\u001b[0m         filternorm\u001b[39m=\u001b[39;49mfilternorm,\n\u001b[0;32m    919\u001b[0m         filterrad\u001b[39m=\u001b[39;49mfilterrad,\n\u001b[0;32m    920\u001b[0m         resample\u001b[39m=\u001b[39;49mresample,\n\u001b[0;32m    921\u001b[0m         interpolation_stage\u001b[39m=\u001b[39;49minterpolation_stage,\n\u001b[0;32m    922\u001b[0m         \u001b[39m*\u001b[39;49m\u001b[39m*\u001b[39;49mkwargs\n\u001b[0;32m    923\u001b[0m     )\n",
      "File \u001b[1;32mc:\\Users\\pedro220045\\.conda\\envs\\pepepy_filho\\Lib\\site-packages\\matplotlib\\image.py:275\u001b[0m, in \u001b[0;36m_ImageBase.__init__\u001b[1;34m(self, ax, cmap, norm, interpolation, origin, filternorm, filterrad, resample, interpolation_stage, **kwargs)\u001b[0m\n\u001b[0;32m    271\u001b[0m \u001b[39mself\u001b[39m\u001b[39m.\u001b[39maxes \u001b[39m=\u001b[39m ax\n\u001b[0;32m    273\u001b[0m \u001b[39mself\u001b[39m\u001b[39m.\u001b[39m_imcache \u001b[39m=\u001b[39m \u001b[39mNone\u001b[39;00m\n\u001b[1;32m--> 275\u001b[0m \u001b[39mself\u001b[39;49m\u001b[39m.\u001b[39;49m_internal_update(kwargs)\n",
      "File \u001b[1;32mc:\\Users\\pedro220045\\.conda\\envs\\pepepy_filho\\Lib\\site-packages\\matplotlib\\artist.py:1219\u001b[0m, in \u001b[0;36mArtist._internal_update\u001b[1;34m(self, kwargs)\u001b[0m\n\u001b[0;32m   1212\u001b[0m \u001b[39mdef\u001b[39;00m \u001b[39m_internal_update\u001b[39m(\u001b[39mself\u001b[39m, kwargs):\n\u001b[0;32m   1213\u001b[0m \u001b[39m    \u001b[39m\u001b[39m\"\"\"\u001b[39;00m\n\u001b[0;32m   1214\u001b[0m \u001b[39m    Update artist properties without prenormalizing them, but generating\u001b[39;00m\n\u001b[0;32m   1215\u001b[0m \u001b[39m    errors as if calling `set`.\u001b[39;00m\n\u001b[0;32m   1216\u001b[0m \n\u001b[0;32m   1217\u001b[0m \u001b[39m    The lack of prenormalization is to maintain backcompatibility.\u001b[39;00m\n\u001b[0;32m   1218\u001b[0m \u001b[39m    \"\"\"\u001b[39;00m\n\u001b[1;32m-> 1219\u001b[0m     \u001b[39mreturn\u001b[39;00m \u001b[39mself\u001b[39;49m\u001b[39m.\u001b[39;49m_update_props(\n\u001b[0;32m   1220\u001b[0m         kwargs, \u001b[39m\"\u001b[39;49m\u001b[39m{cls.__name__}\u001b[39;49;00m\u001b[39m.set() got an unexpected keyword argument \u001b[39;49m\u001b[39m\"\u001b[39;49m\n\u001b[0;32m   1221\u001b[0m         \u001b[39m\"\u001b[39;49m\u001b[39m{prop_name!r}\u001b[39;49;00m\u001b[39m\"\u001b[39;49m)\n",
      "File \u001b[1;32mc:\\Users\\pedro220045\\.conda\\envs\\pepepy_filho\\Lib\\site-packages\\matplotlib\\artist.py:1193\u001b[0m, in \u001b[0;36mArtist._update_props\u001b[1;34m(self, props, errfmt)\u001b[0m\n\u001b[0;32m   1191\u001b[0m             func \u001b[39m=\u001b[39m \u001b[39mgetattr\u001b[39m(\u001b[39mself\u001b[39m, \u001b[39mf\u001b[39m\u001b[39m\"\u001b[39m\u001b[39mset_\u001b[39m\u001b[39m{\u001b[39;00mk\u001b[39m}\u001b[39;00m\u001b[39m\"\u001b[39m, \u001b[39mNone\u001b[39;00m)\n\u001b[0;32m   1192\u001b[0m             \u001b[39mif\u001b[39;00m \u001b[39mnot\u001b[39;00m \u001b[39mcallable\u001b[39m(func):\n\u001b[1;32m-> 1193\u001b[0m                 \u001b[39mraise\u001b[39;00m \u001b[39mAttributeError\u001b[39;00m(\n\u001b[0;32m   1194\u001b[0m                     errfmt\u001b[39m.\u001b[39mformat(\u001b[39mcls\u001b[39m\u001b[39m=\u001b[39m\u001b[39mtype\u001b[39m(\u001b[39mself\u001b[39m), prop_name\u001b[39m=\u001b[39mk))\n\u001b[0;32m   1195\u001b[0m             ret\u001b[39m.\u001b[39mappend(func(v))\n\u001b[0;32m   1196\u001b[0m \u001b[39mif\u001b[39;00m ret:\n",
      "\u001b[1;31mAttributeError\u001b[0m: AxesImage.set() got an unexpected keyword argument 'center'"
     ]
    },
    {
     "data": {
      "image/png": "[encoded data removed]",
      "text/plain": [
       "<Figure size 640x480 with 1 Axes>"
      ]
     },
     "metadata": {},
     "output_type": "display_data"
    }
   ],
   "source": [
    "mu_grid, temp_grid = np.meshgrid(mu_values, temp_values)\n",
    "\n",
    "phi_values = phi(mu_grid, temp_grid)\n",
    "phi_values -= crystal_energy\n",
    "\n",
    "plt.imshow(phi_values, extent=(mu_values.min(), mu_values.max(), temp_values.min(), temp_values.max()), aspect='auto', cmap='seismic', center=0)\n",
    "plt.colorbar(label='Phi')  \n",
    "plt.xlabel('Mu')\n",
    "plt.ylabel('Temperatura')\n",
    "\n",
    "plt.show()"
   ]
  }
 ],
 "metadata": {
  "kernelspec": {
   "display_name": "pepepy_filho",
   "language": "python",
   "name": "python3"
  },
  "language_info": {
   "codemirror_mode": {
    "name": "ipython",
    "version": 3
   },
   "file_extension": ".py",
   "mimetype": "text/x-python",
   "name": "python",
   "nbconvert_exporter": "python",
   "pygments_lexer": "ipython3",
   "version": "3.11.5"
  }
 },
 "nbformat": 4,
 "nbformat_minor": 5
}
